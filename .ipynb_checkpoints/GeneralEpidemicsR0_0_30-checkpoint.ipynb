{
 "cells": [
  {
   "cell_type": "markdown",
   "metadata": {
    "id": "ZE5dqbHUWP69"
   },
   "source": [
    "# Deep learning with Epidemics\n",
    "\n",
    "**Author**: Daniele Baccega\n",
    "\n",
    "**Dataset**: Generated with [epimod](https://github.com/qBioTurin/epimod)\n",
    "\n",
    "**Reference**: [Study Simulated Epidemics with Deep Learning](https://dl.acm.org/doi/10.5220/0007829702310238), [Deep Learning for Epidemiological Predictions](http://nyc.lti.cs.cmu.edu/yiming/Publications/wu-sigir18.pdf)\n",
    "\n",
    "**Description**: I used the gradient of the infected trajectory."
   ]
  },
  {
   "cell_type": "markdown",
   "metadata": {
    "id": "-drAfc4jgvgN"
   },
   "source": [
    "## Import the libraries"
   ]
  },
  {
   "cell_type": "code",
   "execution_count": 1,
   "metadata": {
    "id": "G64RMFCugyYi"
   },
   "outputs": [
    {
     "name": "stderr",
     "output_type": "stream",
     "text": [
      "/home/daniele/.local/lib/python3.6/site-packages/tensorflow/python/framework/dtypes.py:516: FutureWarning: Passing (type, 1) or '1type' as a synonym of type is deprecated; in a future version of numpy, it will be understood as (type, (1,)) / '(1,)type'.\n",
      "  _np_qint8 = np.dtype([(\"qint8\", np.int8, 1)])\n",
      "/home/daniele/.local/lib/python3.6/site-packages/tensorflow/python/framework/dtypes.py:517: FutureWarning: Passing (type, 1) or '1type' as a synonym of type is deprecated; in a future version of numpy, it will be understood as (type, (1,)) / '(1,)type'.\n",
      "  _np_quint8 = np.dtype([(\"quint8\", np.uint8, 1)])\n",
      "/home/daniele/.local/lib/python3.6/site-packages/tensorflow/python/framework/dtypes.py:518: FutureWarning: Passing (type, 1) or '1type' as a synonym of type is deprecated; in a future version of numpy, it will be understood as (type, (1,)) / '(1,)type'.\n",
      "  _np_qint16 = np.dtype([(\"qint16\", np.int16, 1)])\n",
      "/home/daniele/.local/lib/python3.6/site-packages/tensorflow/python/framework/dtypes.py:519: FutureWarning: Passing (type, 1) or '1type' as a synonym of type is deprecated; in a future version of numpy, it will be understood as (type, (1,)) / '(1,)type'.\n",
      "  _np_quint16 = np.dtype([(\"quint16\", np.uint16, 1)])\n",
      "/home/daniele/.local/lib/python3.6/site-packages/tensorflow/python/framework/dtypes.py:520: FutureWarning: Passing (type, 1) or '1type' as a synonym of type is deprecated; in a future version of numpy, it will be understood as (type, (1,)) / '(1,)type'.\n",
      "  _np_qint32 = np.dtype([(\"qint32\", np.int32, 1)])\n",
      "/home/daniele/.local/lib/python3.6/site-packages/tensorflow/python/framework/dtypes.py:525: FutureWarning: Passing (type, 1) or '1type' as a synonym of type is deprecated; in a future version of numpy, it will be understood as (type, (1,)) / '(1,)type'.\n",
      "  np_resource = np.dtype([(\"resource\", np.ubyte, 1)])\n",
      "/home/daniele/.local/lib/python3.6/site-packages/tensorboard/compat/tensorflow_stub/dtypes.py:541: FutureWarning: Passing (type, 1) or '1type' as a synonym of type is deprecated; in a future version of numpy, it will be understood as (type, (1,)) / '(1,)type'.\n",
      "  _np_qint8 = np.dtype([(\"qint8\", np.int8, 1)])\n",
      "/home/daniele/.local/lib/python3.6/site-packages/tensorboard/compat/tensorflow_stub/dtypes.py:542: FutureWarning: Passing (type, 1) or '1type' as a synonym of type is deprecated; in a future version of numpy, it will be understood as (type, (1,)) / '(1,)type'.\n",
      "  _np_quint8 = np.dtype([(\"quint8\", np.uint8, 1)])\n",
      "/home/daniele/.local/lib/python3.6/site-packages/tensorboard/compat/tensorflow_stub/dtypes.py:543: FutureWarning: Passing (type, 1) or '1type' as a synonym of type is deprecated; in a future version of numpy, it will be understood as (type, (1,)) / '(1,)type'.\n",
      "  _np_qint16 = np.dtype([(\"qint16\", np.int16, 1)])\n",
      "/home/daniele/.local/lib/python3.6/site-packages/tensorboard/compat/tensorflow_stub/dtypes.py:544: FutureWarning: Passing (type, 1) or '1type' as a synonym of type is deprecated; in a future version of numpy, it will be understood as (type, (1,)) / '(1,)type'.\n",
      "  _np_quint16 = np.dtype([(\"quint16\", np.uint16, 1)])\n",
      "/home/daniele/.local/lib/python3.6/site-packages/tensorboard/compat/tensorflow_stub/dtypes.py:545: FutureWarning: Passing (type, 1) or '1type' as a synonym of type is deprecated; in a future version of numpy, it will be understood as (type, (1,)) / '(1,)type'.\n",
      "  _np_qint32 = np.dtype([(\"qint32\", np.int32, 1)])\n",
      "/home/daniele/.local/lib/python3.6/site-packages/tensorboard/compat/tensorflow_stub/dtypes.py:550: FutureWarning: Passing (type, 1) or '1type' as a synonym of type is deprecated; in a future version of numpy, it will be understood as (type, (1,)) / '(1,)type'.\n",
      "  np_resource = np.dtype([(\"resource\", np.ubyte, 1)])\n"
     ]
    },
    {
     "ename": "ModuleNotFoundError",
     "evalue": "No module named 'keras'",
     "output_type": "error",
     "traceback": [
      "\u001b[0;31m---------------------------------------------------------------------------\u001b[0m",
      "\u001b[0;31mModuleNotFoundError\u001b[0m                       Traceback (most recent call last)",
      "\u001b[0;32m<ipython-input-1-052416a5ef3b>\u001b[0m in \u001b[0;36m<module>\u001b[0;34m\u001b[0m\n\u001b[1;32m      7\u001b[0m \u001b[0;32mimport\u001b[0m \u001b[0mtensorflow\u001b[0m \u001b[0;32mas\u001b[0m \u001b[0mtf\u001b[0m\u001b[0;34m\u001b[0m\u001b[0;34m\u001b[0m\u001b[0m\n\u001b[1;32m      8\u001b[0m \u001b[0;32mfrom\u001b[0m \u001b[0mtensorflow\u001b[0m \u001b[0;32mimport\u001b[0m \u001b[0mkeras\u001b[0m\u001b[0;34m\u001b[0m\u001b[0;34m\u001b[0m\u001b[0m\n\u001b[0;32m----> 9\u001b[0;31m \u001b[0;32mfrom\u001b[0m \u001b[0mkeras\u001b[0m\u001b[0;34m.\u001b[0m\u001b[0mutils\u001b[0m\u001b[0;34m.\u001b[0m\u001b[0mnp_utils\u001b[0m \u001b[0;32mimport\u001b[0m \u001b[0mto_categorical\u001b[0m\u001b[0;34m\u001b[0m\u001b[0;34m\u001b[0m\u001b[0m\n\u001b[0m\u001b[1;32m     10\u001b[0m \u001b[0;32mfrom\u001b[0m \u001b[0mkeras\u001b[0m \u001b[0;32mimport\u001b[0m \u001b[0mInput\u001b[0m\u001b[0;34m,\u001b[0m \u001b[0mModel\u001b[0m\u001b[0;34m\u001b[0m\u001b[0;34m\u001b[0m\u001b[0m\n\u001b[1;32m     11\u001b[0m \u001b[0;32mfrom\u001b[0m \u001b[0mkeras\u001b[0m\u001b[0;34m.\u001b[0m\u001b[0mlayers\u001b[0m \u001b[0;32mimport\u001b[0m \u001b[0mLSTM\u001b[0m\u001b[0;34m,\u001b[0m \u001b[0mDense\u001b[0m\u001b[0;34m,\u001b[0m \u001b[0mDropout\u001b[0m\u001b[0;34m,\u001b[0m \u001b[0mConv1D\u001b[0m\u001b[0;34m,\u001b[0m \u001b[0mMaxPooling1D\u001b[0m\u001b[0;34m,\u001b[0m \u001b[0mZeroPadding1D\u001b[0m\u001b[0;34m,\u001b[0m \u001b[0mFlatten\u001b[0m\u001b[0;34m,\u001b[0m \u001b[0mGRU\u001b[0m\u001b[0;34m\u001b[0m\u001b[0;34m\u001b[0m\u001b[0m\n",
      "\u001b[0;31mModuleNotFoundError\u001b[0m: No module named 'keras'"
     ]
    }
   ],
   "source": [
    "import os\n",
    "import sys\n",
    "import matplotlib.pyplot as plt\n",
    "import pandas as pd\n",
    "import numpy as np\n",
    "import math\n",
    "import tensorflow as tf\n",
    "from tensorflow import keras\n",
    "from keras.utils.np_utils import to_categorical\n",
    "from keras import Input, Model\n",
    "from keras.layers import LSTM, Dense, Dropout, Conv1D, MaxPooling1D, ZeroPadding1D, Flatten, GRU\n",
    "from sklearn.model_selection import train_test_split"
   ]
  },
  {
   "cell_type": "markdown",
   "metadata": {
    "id": "ZliLJmkwhGRb"
   },
   "source": [
    "## Preprocessing"
   ]
  },
  {
   "cell_type": "code",
   "execution_count": 3,
   "metadata": {
    "id": "kOEGDYtVgmdL"
   },
   "outputs": [],
   "source": [
    "# Initialize some variables\n",
    "dir = \"epidemics-data/dataset/data_inf_rate_0.00001-0.015/\"\n",
    "data = []\n",
    "X = []\n",
    "y = []\n",
    "#min_X = sys.maxsize\n",
    "#max_X = -sys.maxsize"
   ]
  },
  {
   "cell_type": "code",
   "execution_count": 4,
   "metadata": {
    "id": "3NSU0hq2hHhA"
   },
   "outputs": [],
   "source": [
    "# Load the dataset, separate data from labels and apply the gradient\n",
    "listFiles = os.listdir(dir)\n",
    "\n",
    "for file in listFiles:\n",
    "  infects = np.genfromtxt(dir + file)\n",
    "\n",
    "  data.append(infects[0:math.floor(len(infects)-1)])\n",
    "  y.append(infects[-1])\n",
    "\n",
    "  infects = np.gradient(infects[0:math.floor(len(infects)-1)])\n",
    "\n",
    "  #min_X = min(min_X, min(infects[0:math.floor(len(infects)-1)]))\n",
    "  #max_X = max(max_X, max(infects[0:math.floor(len(infects)-1)]))\n",
    "  \n",
    "  X.append(infects[0:math.floor(len(infects)-1)])"
   ]
  },
  {
   "cell_type": "code",
   "execution_count": 5,
   "metadata": {
    "id": "8U81Y1tzoHqz"
   },
   "outputs": [],
   "source": [
    "# Transform each array in a numpy array\n",
    "X = np.array(X)\n",
    "y = np.array(y)"
   ]
  },
  {
   "cell_type": "code",
   "execution_count": 6,
   "metadata": {
    "colab": {
     "base_uri": "https://localhost:8080/",
     "height": 295
    },
    "id": "y42k80nTHCTm",
    "outputId": "b66a2ccb-1be7-4f4c-cda2-9f30e1c23524"
   },
   "outputs": [
    {
     "data": {
      "image/png": "[encoded data removed]",
      "text/plain": [
       "<Figure size 432x288 with 1 Axes>"
      ]
     },
     "metadata": {
      "needs_background": "light"
     },
     "output_type": "display_data"
    }
   ],
   "source": [
    "# Visualize data\n",
    "plt.plot(data[0])\n",
    "plt.title('The first trajectory')\n",
    "plt.ylabel('Infected')\n",
    "plt.xlabel('Day')\n",
    "plt.show()"
   ]
  },
  {
   "cell_type": "code",
   "execution_count": 7,
   "metadata": {
    "colab": {
     "base_uri": "https://localhost:8080/",
     "height": 295
    },
    "id": "fJGiaLoVr1Zf",
    "outputId": "c518a34f-d5ca-4b3f-bda4-82ec820276da"
   },
   "outputs": [
    {
     "data": {
      "image/png": "[encoded data removed]",
      "text/plain": [
       "<Figure size 432x288 with 1 Axes>"
      ]
     },
     "metadata": {
      "needs_background": "light"
     },
     "output_type": "display_data"
    }
   ],
   "source": [
    "# Visualize gradient\n",
    "plt.plot(X[0])\n",
    "plt.title('The slope of the first trajectory')\n",
    "plt.ylabel('Slope')\n",
    "plt.xlabel('Day')\n",
    "plt.show()"
   ]
  },
  {
   "cell_type": "code",
   "execution_count": 8,
   "metadata": {
    "colab": {
     "base_uri": "https://localhost:8080/"
    },
    "id": "sG3Icvs0Ysv5",
    "outputId": "51464ed5-c7e2-48d1-d958-0e6023e8c747"
   },
   "outputs": [
    {
     "name": "stdout",
     "output_type": "stream",
     "text": [
      "Inspect a trace (the first)\n",
      "Trajectory:\n",
      " [ 0.          2.43417345  6.23528072  8.3587717   9.55711258 10.03005429\n",
      "  9.79861597  9.28455199  8.74865442  7.67140401  5.9408208   4.07991048\n",
      "  2.32432672  0.76799353 -0.5444584  -1.61423389 -2.50268043 -3.21225572\n",
      " -3.73940708 -4.10693847 -4.32225708 -4.40919092 -4.39671402 -4.30789279\n",
      " -4.16351061 -3.98088732 -3.76757815 -3.53550287 -3.29715162 -3.06051228\n",
      " -2.82543587 -2.59725108 -2.38095438 -2.17525446 -1.98173118 -1.80236481\n",
      " -1.63544616 -1.4815751  -1.34151057 -1.21110611 -1.09213893 -0.98547432\n",
      " -0.88860867 -0.80039207 -0.72073627 -0.64961445 -0.58545703 -0.52476629\n",
      " -0.47097514 -0.42424514 -0.38027498 -0.34171481 -0.3063502  -0.27421147\n",
      " -0.24598257 -0.21974658 -0.19733902 -0.17785961 -0.15950827 -0.14338238\n",
      " -0.06811809]\n",
      "R0: 2.86703809549482\n",
      "Shape of data: (250000, 61)\n",
      "Shape of labels: (250000,)\n"
     ]
    }
   ],
   "source": [
    "print(\"Inspect a trace (the first)\")\n",
    "print(\"Trajectory:\\n\", X[0])\n",
    "print(\"R0:\", y[0])\n",
    "print(\"Shape of data:\", X.shape)\n",
    "print(\"Shape of labels:\", y.shape)\n",
    "\n",
    "#print(\"\\n\\n\")\n",
    "#print(\"Minimum value inside the dataset\", min_X)\n",
    "#print(\"Maximum value inside the dataset\", max_X)"
   ]
  },
  {
   "cell_type": "code",
   "execution_count": 9,
   "metadata": {
    "id": "Rzl-zlhKff_3"
   },
   "outputs": [],
   "source": [
    "# Normalize the labels\n",
    "#R0_min = min(y)\n",
    "left = [0, 0.2, 0.4, 0.6, 0.8, 1, 1.2, 1.4, 1.6, 1.8, 2, 3, 4, 5, 6, 7, 8, 9, 10, 11, 12, 13, 14, 15, 16, 17, 18, 19, 20]\n",
    "right = [0.2, 0.4, 0.6, 0.8, 1, 1.2, 1.4, 1.6, 1.8, 2, 3, 4, 5, 6, 7, 8, 9, 10, 11, 12, 13, 14, 15, 16, 17, 18, 19, 20, sys.maxsize]\n",
    "classes = [0, 1, 2, 3, 4, 5, 6, 7, 8, 9, 10, 11, 12, 13, 14, 15, 16, 17, 18, 19, 20, 21, 22, 23, 24, 25, 26, 27, 28]\n",
    "y_labels = []\n",
    "\n",
    "for R0 in y:\n",
    "  for c, l, r in zip(classes, left, right):\n",
    "    if R0 >= l and R0 < r:\n",
    "      y_labels.append(c)\n",
    "\n",
    "y_labels = np.array(y_labels)\n",
    "y_labels = to_categorical(y_labels, num_classes=29)"
   ]
  },
  {
   "cell_type": "code",
   "execution_count": 10,
   "metadata": {
    "id": "99_-RJWXzQ5a"
   },
   "outputs": [],
   "source": [
    "# Copy the data\n",
    "X_data = X"
   ]
  },
  {
   "cell_type": "code",
   "execution_count": 11,
   "metadata": {
    "colab": {
     "base_uri": "https://localhost:8080/"
    },
    "id": "Ii3tOB2Ui-lU",
    "outputId": "d4bce04f-e100-4421-d314-fb1bb82e8e47"
   },
   "outputs": [
    {
     "name": "stdout",
     "output_type": "stream",
     "text": [
      "Inspect a normalized trace (the first)\n",
      "Normalized trajectory:\n",
      " [ 0.          2.43417345  6.23528072  8.3587717   9.55711258 10.03005429\n",
      "  9.79861597  9.28455199  8.74865442  7.67140401  5.9408208   4.07991048\n",
      "  2.32432672  0.76799353 -0.5444584  -1.61423389 -2.50268043 -3.21225572\n",
      " -3.73940708 -4.10693847 -4.32225708 -4.40919092 -4.39671402 -4.30789279\n",
      " -4.16351061 -3.98088732 -3.76757815 -3.53550287 -3.29715162 -3.06051228\n",
      " -2.82543587 -2.59725108 -2.38095438 -2.17525446 -1.98173118 -1.80236481\n",
      " -1.63544616 -1.4815751  -1.34151057 -1.21110611 -1.09213893 -0.98547432\n",
      " -0.88860867 -0.80039207 -0.72073627 -0.64961445 -0.58545703 -0.52476629\n",
      " -0.47097514 -0.42424514 -0.38027498 -0.34171481 -0.3063502  -0.27421147\n",
      " -0.24598257 -0.21974658 -0.19733902 -0.17785961 -0.15950827 -0.14338238\n",
      " -0.06811809]\n",
      "Normalized R0 (we have 29 classes, from 0 to 28): [0. 0. 0. 0. 0. 0. 0. 0. 0. 0. 1. 0. 0. 0. 0. 0. 0. 0. 0. 0. 0. 0. 0. 0.\n",
      " 0. 0. 0. 0. 0.]\n"
     ]
    }
   ],
   "source": [
    "print(\"Inspect a normalized trace (the first)\")\n",
    "print(\"Normalized trajectory:\\n\", X_data[0])\n",
    "print(\"Normalized R0 (we have 29 classes, from 0 to 28):\", y_labels[0])"
   ]
  },
  {
   "cell_type": "code",
   "execution_count": 12,
   "metadata": {
    "colab": {
     "base_uri": "https://localhost:8080/"
    },
    "id": "EnBX_0Okpo3b",
    "outputId": "10b6d7f9-c1e4-4cac-ef6e-91cce7b3d450"
   },
   "outputs": [
    {
     "name": "stdout",
     "output_type": "stream",
     "text": [
      "Shape of training data: (175000, 61, 1)\n",
      "Shape of validation data: (37500, 61, 1)\n",
      "Shape of testing data: (37500, 61, 1)\n",
      "Shape of training labels: (175000, 29)\n",
      "Shape of validation labels: (37500, 29)\n",
      "Shape of testing labels: (37500, 29)\n"
     ]
    }
   ],
   "source": [
    "# Split data into train, validation and test\n",
    "X_train, X_val_test, y_train, y_val_test = train_test_split(X_data, y_labels, test_size=0.3)\n",
    "X_val, X_test, y_val, y_test = train_test_split(X_val_test, y_val_test, test_size=0.5)\n",
    "\n",
    "X_train = X_train.reshape(X_train.shape[0], X_train.shape[1], 1)\n",
    "X_val = X_val.reshape(X_val.shape[0], X_val.shape[1], 1)\n",
    "X_test = X_test.reshape(X_test.shape[0], X_test.shape[1], 1)\n",
    "\n",
    "print(\"Shape of training data:\", X_train.shape)\n",
    "print(\"Shape of validation data:\", X_val.shape)\n",
    "print(\"Shape of testing data:\", X_test.shape)\n",
    "print(\"Shape of training labels:\", y_train.shape)\n",
    "print(\"Shape of validation labels:\", y_val.shape)\n",
    "print(\"Shape of testing labels:\", y_test.shape)"
   ]
  },
  {
   "cell_type": "markdown",
   "metadata": {
    "id": "XqLSs8DfUfaN"
   },
   "source": [
    "## Build a CNN"
   ]
  },
  {
   "cell_type": "code",
   "execution_count": 13,
   "metadata": {
    "colab": {
     "base_uri": "https://localhost:8080/"
    },
    "id": "kgF36Qx6UhPY",
    "outputId": "6db98edb-8815-4e32-9fb2-d70a1f077d57"
   },
   "outputs": [
    {
     "name": "stdout",
     "output_type": "stream",
     "text": [
      "Model: \"CNN\"\n",
      "_________________________________________________________________\n",
      " Layer (type)                Output Shape              Param #   \n",
      "=================================================================\n",
      " I1 (InputLayer)             [(None, 61, 1)]           0         \n",
      "                                                                 \n",
      " P2 (ZeroPadding1D)          (None, 63, 1)             0         \n",
      "                                                                 \n",
      " C3 (Conv1D)                 (None, 62, 32)            96        \n",
      "                                                                 \n",
      " MP4 (MaxPooling1D)          (None, 31, 32)            0         \n",
      "                                                                 \n",
      " C6 (Conv1D)                 (None, 29, 64)            6208      \n",
      "                                                                 \n",
      " MP7 (MaxPooling1D)          (None, 14, 64)            0         \n",
      "                                                                 \n",
      " F9 (Flatten)                (None, 896)               0         \n",
      "                                                                 \n",
      " D10 (Dense)                 (None, 100)               89700     \n",
      "                                                                 \n",
      " D11 (Dense)                 (None, 29)                2929      \n",
      "                                                                 \n",
      "=================================================================\n",
      "Total params: 98,933\n",
      "Trainable params: 98,933\n",
      "Non-trainable params: 0\n",
      "_________________________________________________________________\n",
      "Epoch 1/50\n",
      "5469/5469 [==============================] - 46s 7ms/step - loss: 1.9532 - categorical_accuracy: 0.4784 - val_loss: 1.5062 - val_categorical_accuracy: 0.6133\n",
      "Epoch 2/50\n",
      "5469/5469 [==============================] - 35s 6ms/step - loss: 1.2975 - categorical_accuracy: 0.6540 - val_loss: 1.1283 - val_categorical_accuracy: 0.7035\n",
      "Epoch 3/50\n",
      "5469/5469 [==============================] - 34s 6ms/step - loss: 1.0130 - categorical_accuracy: 0.7768 - val_loss: 0.9080 - val_categorical_accuracy: 0.8052\n",
      "Epoch 4/50\n",
      "5469/5469 [==============================] - 34s 6ms/step - loss: 0.8294 - categorical_accuracy: 0.8411 - val_loss: 0.7544 - val_categorical_accuracy: 0.8777\n",
      "Epoch 5/50\n",
      "5469/5469 [==============================] - 36s 7ms/step - loss: 0.6986 - categorical_accuracy: 0.8857 - val_loss: 0.6430 - val_categorical_accuracy: 0.9104\n",
      "Epoch 6/50\n",
      "5469/5469 [==============================] - 34s 6ms/step - loss: 0.6013 - categorical_accuracy: 0.9112 - val_loss: 0.5584 - val_categorical_accuracy: 0.9291\n",
      "Epoch 7/50\n",
      "5469/5469 [==============================] - 34s 6ms/step - loss: 0.5271 - categorical_accuracy: 0.9242 - val_loss: 0.4928 - val_categorical_accuracy: 0.9381\n",
      "Epoch 8/50\n",
      "5469/5469 [==============================] - 36s 7ms/step - loss: 0.4682 - categorical_accuracy: 0.9357 - val_loss: 0.4403 - val_categorical_accuracy: 0.9447\n",
      "Epoch 9/50\n",
      "5469/5469 [==============================] - 37s 7ms/step - loss: 0.4205 - categorical_accuracy: 0.9457 - val_loss: 0.3973 - val_categorical_accuracy: 0.9452\n",
      "Epoch 10/50\n",
      "5469/5469 [==============================] - 35s 6ms/step - loss: 0.3810 - categorical_accuracy: 0.9525 - val_loss: 0.3612 - val_categorical_accuracy: 0.9614\n",
      "Epoch 11/50\n",
      "5469/5469 [==============================] - 35s 6ms/step - loss: 0.3479 - categorical_accuracy: 0.9583 - val_loss: 0.3310 - val_categorical_accuracy: 0.9669\n",
      "Epoch 12/50\n",
      "5469/5469 [==============================] - 36s 7ms/step - loss: 0.3198 - categorical_accuracy: 0.9639 - val_loss: 0.3045 - val_categorical_accuracy: 0.9708\n",
      "Epoch 13/50\n",
      "5469/5469 [==============================] - 34s 6ms/step - loss: 0.2956 - categorical_accuracy: 0.9677 - val_loss: 0.2821 - val_categorical_accuracy: 0.9761\n",
      "Epoch 14/50\n",
      "5469/5469 [==============================] - 34s 6ms/step - loss: 0.2748 - categorical_accuracy: 0.9708 - val_loss: 0.2628 - val_categorical_accuracy: 0.9796\n",
      "Epoch 15/50\n",
      "5469/5469 [==============================] - 35s 6ms/step - loss: 0.2568 - categorical_accuracy: 0.9730 - val_loss: 0.2474 - val_categorical_accuracy: 0.9731\n",
      "Epoch 16/50\n",
      "5469/5469 [==============================] - 36s 7ms/step - loss: 0.2411 - categorical_accuracy: 0.9755 - val_loss: 0.2314 - val_categorical_accuracy: 0.9821\n",
      "Epoch 17/50\n",
      "5469/5469 [==============================] - 36s 7ms/step - loss: 0.2273 - categorical_accuracy: 0.9765 - val_loss: 0.2196 - val_categorical_accuracy: 0.9801\n",
      "Epoch 18/50\n",
      "5469/5469 [==============================] - 34s 6ms/step - loss: 0.2150 - categorical_accuracy: 0.9782 - val_loss: 0.2072 - val_categorical_accuracy: 0.9801\n",
      "Epoch 19/50\n",
      "5469/5469 [==============================] - 35s 6ms/step - loss: 0.2040 - categorical_accuracy: 0.9796 - val_loss: 0.1977 - val_categorical_accuracy: 0.9805\n",
      "Epoch 20/50\n",
      "5469/5469 [==============================] - 35s 6ms/step - loss: 0.1942 - categorical_accuracy: 0.9803 - val_loss: 0.1889 - val_categorical_accuracy: 0.9793\n",
      "Epoch 21/50\n",
      "5469/5469 [==============================] - 35s 6ms/step - loss: 0.1853 - categorical_accuracy: 0.9819 - val_loss: 0.1793 - val_categorical_accuracy: 0.9819\n",
      "Epoch 22/50\n",
      "5469/5469 [==============================] - 36s 7ms/step - loss: 0.1774 - categorical_accuracy: 0.9826 - val_loss: 0.1726 - val_categorical_accuracy: 0.9810\n",
      "Epoch 23/50\n",
      "5469/5469 [==============================] - 36s 7ms/step - loss: 0.1696 - categorical_accuracy: 0.9834 - val_loss: 0.1639 - val_categorical_accuracy: 0.9866\n",
      "Epoch 24/50\n",
      "5469/5469 [==============================] - 35s 6ms/step - loss: 0.1628 - categorical_accuracy: 0.9833 - val_loss: 0.1572 - val_categorical_accuracy: 0.9894\n",
      "Epoch 25/50\n",
      "5469/5469 [==============================] - 34s 6ms/step - loss: 0.1568 - categorical_accuracy: 0.9845 - val_loss: 0.1525 - val_categorical_accuracy: 0.9840\n",
      "Epoch 26/50\n",
      "5469/5469 [==============================] - 34s 6ms/step - loss: 0.1512 - categorical_accuracy: 0.9847 - val_loss: 0.1475 - val_categorical_accuracy: 0.9858\n",
      "Epoch 27/50\n",
      "5469/5469 [==============================] - 37s 7ms/step - loss: 0.1462 - categorical_accuracy: 0.9849 - val_loss: 0.1420 - val_categorical_accuracy: 0.9865\n",
      "Epoch 28/50\n",
      "5469/5469 [==============================] - 36s 7ms/step - loss: 0.1415 - categorical_accuracy: 0.9854 - val_loss: 0.1377 - val_categorical_accuracy: 0.9860\n",
      "Epoch 29/50\n",
      "5469/5469 [==============================] - 34s 6ms/step - loss: 0.1371 - categorical_accuracy: 0.9855 - val_loss: 0.1335 - val_categorical_accuracy: 0.9847\n",
      "Epoch 30/50\n",
      "5469/5469 [==============================] - 34s 6ms/step - loss: 0.1331 - categorical_accuracy: 0.9861 - val_loss: 0.1289 - val_categorical_accuracy: 0.9898\n",
      "Epoch 31/50\n",
      "5469/5469 [==============================] - 35s 6ms/step - loss: 0.1294 - categorical_accuracy: 0.9863 - val_loss: 0.1280 - val_categorical_accuracy: 0.9848\n",
      "Epoch 32/50\n",
      "5469/5469 [==============================] - 34s 6ms/step - loss: 0.1258 - categorical_accuracy: 0.9866 - val_loss: 0.1226 - val_categorical_accuracy: 0.9857\n",
      "Epoch 33/50\n",
      "5469/5469 [==============================] - 35s 6ms/step - loss: 0.1222 - categorical_accuracy: 0.9869 - val_loss: 0.1190 - val_categorical_accuracy: 0.9897\n",
      "Epoch 34/50\n",
      "5469/5469 [==============================] - 35s 6ms/step - loss: 0.1190 - categorical_accuracy: 0.9871 - val_loss: 0.1163 - val_categorical_accuracy: 0.9852\n",
      "Epoch 35/50\n",
      "5469/5469 [==============================] - 35s 6ms/step - loss: 0.1161 - categorical_accuracy: 0.9874 - val_loss: 0.1134 - val_categorical_accuracy: 0.9863\n",
      "Epoch 36/50\n",
      "5469/5469 [==============================] - 35s 6ms/step - loss: 0.1131 - categorical_accuracy: 0.9880 - val_loss: 0.1096 - val_categorical_accuracy: 0.9880\n",
      "Epoch 37/50\n",
      "5469/5469 [==============================] - 34s 6ms/step - loss: 0.1102 - categorical_accuracy: 0.9877 - val_loss: 0.1071 - val_categorical_accuracy: 0.9906\n",
      "Epoch 38/50\n",
      "5469/5469 [==============================] - 34s 6ms/step - loss: 0.1078 - categorical_accuracy: 0.9880 - val_loss: 0.1049 - val_categorical_accuracy: 0.9892\n",
      "Epoch 39/50\n",
      "5469/5469 [==============================] - 34s 6ms/step - loss: 0.1054 - categorical_accuracy: 0.9884 - val_loss: 0.1034 - val_categorical_accuracy: 0.9858\n",
      "Epoch 40/50\n",
      "5469/5469 [==============================] - 35s 6ms/step - loss: 0.1033 - categorical_accuracy: 0.9887 - val_loss: 0.1007 - val_categorical_accuracy: 0.9885\n",
      "Epoch 41/50\n",
      "5469/5469 [==============================] - 35s 6ms/step - loss: 0.1011 - categorical_accuracy: 0.9886 - val_loss: 0.0986 - val_categorical_accuracy: 0.9885\n",
      "Epoch 42/50\n",
      "5469/5469 [==============================] - 35s 6ms/step - loss: 0.0991 - categorical_accuracy: 0.9888 - val_loss: 0.0966 - val_categorical_accuracy: 0.9894\n",
      "Epoch 43/50\n",
      "5469/5469 [==============================] - 34s 6ms/step - loss: 0.0971 - categorical_accuracy: 0.9887 - val_loss: 0.0942 - val_categorical_accuracy: 0.9918\n",
      "Epoch 44/50\n",
      "5469/5469 [==============================] - 34s 6ms/step - loss: 0.0953 - categorical_accuracy: 0.9892 - val_loss: 0.0925 - val_categorical_accuracy: 0.9906\n",
      "Epoch 45/50\n",
      "5469/5469 [==============================] - 36s 7ms/step - loss: 0.0935 - categorical_accuracy: 0.9889 - val_loss: 0.0902 - val_categorical_accuracy: 0.9930\n",
      "Epoch 46/50\n",
      "5469/5469 [==============================] - 35s 6ms/step - loss: 0.0920 - categorical_accuracy: 0.9891 - val_loss: 0.0893 - val_categorical_accuracy: 0.9903\n",
      "Epoch 47/50\n",
      "5469/5469 [==============================] - 35s 6ms/step - loss: 0.0905 - categorical_accuracy: 0.9890 - val_loss: 0.0900 - val_categorical_accuracy: 0.9850\n",
      "Epoch 48/50\n",
      "5469/5469 [==============================] - 36s 7ms/step - loss: 0.0890 - categorical_accuracy: 0.9887 - val_loss: 0.0858 - val_categorical_accuracy: 0.9921\n",
      "Epoch 49/50\n",
      "5469/5469 [==============================] - 34s 6ms/step - loss: 0.0875 - categorical_accuracy: 0.9888 - val_loss: 0.0871 - val_categorical_accuracy: 0.9857\n",
      "Epoch 50/50\n",
      "5469/5469 [==============================] - 33s 6ms/step - loss: 0.0861 - categorical_accuracy: 0.9894 - val_loss: 0.0835 - val_categorical_accuracy: 0.9909\n"
     ]
    }
   ],
   "source": [
    "# Prepare our layer\n",
    "inputs = Input(shape=(61, 1), dtype=\"float32\", name=\"I1\")\n",
    "x = ZeroPadding1D(padding=1, name=\"P2\")(inputs)\n",
    "x = Conv1D(32, 2, activation=\"relu\", name=\"C3\")(x)\n",
    "x = MaxPooling1D(2, name=\"MP4\")(x)\n",
    "x = Conv1D(64, 3, activation=\"relu\", name=\"C6\")(x)\n",
    "x = MaxPooling1D(2, name=\"MP7\")(x)\n",
    "x = Flatten(name=\"F9\")(x)\n",
    "x = Dense(100, activation=\"relu\", name=\"D10\")(x)\n",
    "outputs = Dense(29, activation=\"softmax\", name=\"D11\")(x)\n",
    "model = Model(inputs, outputs, name=\"CNN\")\n",
    "\n",
    "# Specify the loss, optimizer, and metrics with `compile()`.\n",
    "model.compile(\n",
    "    loss = keras.losses.CategoricalCrossentropy(),\n",
    "    optimizer = keras.optimizers.Adam(learning_rate=5e-6),\n",
    "    metrics = [keras.metrics.CategoricalAccuracy()]\n",
    ")\n",
    "\n",
    "model.summary()\n",
    "\n",
    "# Train the model with the dataset for 50 epochs.\n",
    "history = model.fit(X_train, y_train, batch_size=32, shuffle=True, epochs=50, validation_data=(X_val, y_val));"
   ]
  },
  {
   "cell_type": "code",
   "execution_count": 14,
   "metadata": {
    "colab": {
     "base_uri": "https://localhost:8080/",
     "height": 295
    },
    "id": "wBiHxOwjZfhm",
    "outputId": "87047898-b378-4925-b440-0a0ec28e5db7"
   },
   "outputs": [
    {
     "data": {
      "image/png": "[encoded data removed]",
      "text/plain": [
       "<Figure size 432x288 with 1 Axes>"
      ]
     },
     "metadata": {
      "needs_background": "light"
     },
     "output_type": "display_data"
    }
   ],
   "source": [
    "plt.plot(history.history['loss'])\n",
    "plt.plot(history.history['val_loss'])\n",
    "plt.title('Model loss')\n",
    "plt.ylabel('loss')\n",
    "plt.xlabel('Epoch')\n",
    "plt.legend(['train', 'validation'], loc='upper right')\n",
    "plt.show()"
   ]
  },
  {
   "cell_type": "code",
   "execution_count": 15,
   "metadata": {
    "colab": {
     "base_uri": "https://localhost:8080/",
     "height": 295
    },
    "id": "Lh5VrtWTZgSh",
    "outputId": "b86925c8-b526-4c18-ca66-ed9a99991bf3"
   },
   "outputs": [
    {
     "data": {
      "image/png": "[encoded data removed]",
      "text/plain": [
       "<Figure size 432x288 with 1 Axes>"
      ]
     },
     "metadata": {
      "needs_background": "light"
     },
     "output_type": "display_data"
    }
   ],
   "source": [
    "plt.plot(history.history['categorical_accuracy'])\n",
    "plt.plot(history.history['val_categorical_accuracy'])\n",
    "plt.title('Model Accuracy')\n",
    "plt.ylabel('Accuracy')\n",
    "plt.xlabel('Epoch')\n",
    "plt.legend(['train', 'validation'], loc='lower right')\n",
    "plt.show()"
   ]
  },
  {
   "cell_type": "code",
   "execution_count": 16,
   "metadata": {
    "colab": {
     "base_uri": "https://localhost:8080/"
    },
    "id": "fq8HPLnkZgXC",
    "outputId": "7e9802e7-5d90-4622-dafe-fcf7534efbbd"
   },
   "outputs": [
    {
     "name": "stdout",
     "output_type": "stream",
     "text": [
      "3750/3750 [==============================] - 15s 4ms/step - loss: 0.0855 - categorical_accuracy: 0.9908\n"
     ]
    },
    {
     "data": {
      "text/plain": [
       "[0.08554118126630783, 0.9907733201980591]"
      ]
     },
     "execution_count": 16,
     "metadata": {},
     "output_type": "execute_result"
    }
   ],
   "source": [
    "model.evaluate(X_test, y_test, batch_size=10)"
   ]
  },
  {
   "cell_type": "markdown",
   "metadata": {
    "id": "fbjukylbjMVv"
   },
   "source": [
    "## Build a CNN-RNN (LSTM)"
   ]
  },
  {
   "cell_type": "code",
   "execution_count": null,
   "metadata": {
    "colab": {
     "base_uri": "https://localhost:8080/"
    },
    "id": "4iqFfCS6jPMo",
    "outputId": "87d8c4fc-70ea-44c3-b7e1-4c8742403af1"
   },
   "outputs": [
    {
     "name": "stdout",
     "output_type": "stream",
     "text": [
      "WARNING:tensorflow:Layer L5 will not use cuDNN kernels since it doesn't meet the criteria. It will use a generic GPU kernel as fallback when running on GPU.\n",
      "Model: \"CNN-RNN-LSTM\"\n",
      "_________________________________________________________________\n",
      " Layer (type)                Output Shape              Param #   \n",
      "=================================================================\n",
      " I1 (InputLayer)             [(None, 61, 1)]           0         \n",
      "                                                                 \n",
      " P2 (ZeroPadding1D)          (None, 63, 1)             0         \n",
      "                                                                 \n",
      " C3 (Conv1D)                 (None, 62, 8)             24        \n",
      "                                                                 \n",
      " MP4 (MaxPooling1D)          (None, 31, 8)             0         \n",
      "                                                                 \n",
      " L5 (LSTM)                   (None, 100)               43600     \n",
      "                                                                 \n",
      " Dr6 (Dropout)               (None, 100)               0         \n",
      "                                                                 \n",
      " D7 (Dense)                  (None, 29)                2929      \n",
      "                                                                 \n",
      "=================================================================\n",
      "Total params: 46,553\n",
      "Trainable params: 46,553\n",
      "Non-trainable params: 0\n",
      "_________________________________________________________________\n",
      "Epoch 1/50\n",
      "5469/5469 [==============================] - 616s 112ms/step - loss: 2.4329 - categorical_accuracy: 0.2951 - val_loss: 2.1212 - val_categorical_accuracy: 0.3199\n",
      "Epoch 2/50\n",
      "5469/5469 [==============================] - 617s 113ms/step - loss: 2.0692 - categorical_accuracy: 0.3709 - val_loss: 1.8575 - val_categorical_accuracy: 0.4470\n",
      "Epoch 3/50\n",
      "5469/5469 [==============================] - 609s 111ms/step - loss: 1.7812 - categorical_accuracy: 0.4280 - val_loss: 1.4090 - val_categorical_accuracy: 0.5511\n",
      "Epoch 4/50\n",
      "5469/5469 [==============================] - 597s 109ms/step - loss: 1.5482 - categorical_accuracy: 0.4778 - val_loss: 1.1921 - val_categorical_accuracy: 0.6246\n",
      "Epoch 5/50\n",
      "5469/5469 [==============================] - 596s 109ms/step - loss: 1.3735 - categorical_accuracy: 0.5279 - val_loss: 1.0338 - val_categorical_accuracy: 0.6893\n",
      "Epoch 6/50\n",
      "5469/5469 [==============================] - 601s 110ms/step - loss: 1.2143 - categorical_accuracy: 0.5728 - val_loss: 0.8693 - val_categorical_accuracy: 0.7416\n",
      "Epoch 7/50\n",
      "5469/5469 [==============================] - 610s 112ms/step - loss: 1.0750 - categorical_accuracy: 0.6135 - val_loss: 0.7594 - val_categorical_accuracy: 0.7729\n",
      "Epoch 8/50\n",
      "5469/5469 [==============================] - 595s 109ms/step - loss: 0.9657 - categorical_accuracy: 0.6473 - val_loss: 0.6730 - val_categorical_accuracy: 0.8200\n",
      "Epoch 9/50\n",
      "5469/5469 [==============================] - 590s 108ms/step - loss: 0.8711 - categorical_accuracy: 0.6803 - val_loss: 0.5851 - val_categorical_accuracy: 0.8489\n",
      "Epoch 10/50\n",
      "5469/5469 [==============================] - 602s 110ms/step - loss: 0.7935 - categorical_accuracy: 0.7076 - val_loss: 0.5352 - val_categorical_accuracy: 0.8579\n",
      "Epoch 11/50\n",
      "5469/5469 [==============================] - 599s 110ms/step - loss: 0.7248 - categorical_accuracy: 0.7343 - val_loss: 0.4733 - val_categorical_accuracy: 0.8703\n",
      "Epoch 12/50\n",
      "5469/5469 [==============================] - 590s 108ms/step - loss: 0.6685 - categorical_accuracy: 0.7563 - val_loss: 0.4399 - val_categorical_accuracy: 0.8748\n",
      "Epoch 13/50\n",
      "5469/5469 [==============================] - 609s 111ms/step - loss: 0.6171 - categorical_accuracy: 0.7776 - val_loss: 0.3971 - val_categorical_accuracy: 0.8925\n",
      "Epoch 14/50\n",
      "5469/5469 [==============================] - 600s 110ms/step - loss: 0.5741 - categorical_accuracy: 0.7945 - val_loss: 0.3592 - val_categorical_accuracy: 0.9049\n",
      "Epoch 15/50\n",
      "5469/5469 [==============================] - 605s 111ms/step - loss: 0.5372 - categorical_accuracy: 0.8089 - val_loss: 0.3415 - val_categorical_accuracy: 0.9047\n",
      "Epoch 16/50\n",
      "5469/5469 [==============================] - 608s 111ms/step - loss: 0.5045 - categorical_accuracy: 0.8219 - val_loss: 0.3196 - val_categorical_accuracy: 0.9082\n",
      "Epoch 17/50\n",
      "5469/5469 [==============================] - 604s 111ms/step - loss: 0.4767 - categorical_accuracy: 0.8328 - val_loss: 0.3106 - val_categorical_accuracy: 0.9050\n",
      "Epoch 18/50\n",
      "5469/5469 [==============================] - 606s 111ms/step - loss: 0.4514 - categorical_accuracy: 0.8424 - val_loss: 0.2874 - val_categorical_accuracy: 0.9131\n",
      "Epoch 19/50\n",
      "5284/5469 [===========================>..] - ETA: 20s - loss: 0.4274 - categorical_accuracy: 0.8508"
     ]
    }
   ],
   "source": [
    "# Prepare our layer\n",
    "inputs = Input(shape=(61, 1,), dtype=\"float32\", name=\"I1\")\n",
    "x = ZeroPadding1D(padding=1, name=\"P2\")(inputs)\n",
    "x = Conv1D(8, 2, activation=\"relu\", name=\"C3\")(x)\n",
    "x = MaxPooling1D(2, name=\"MP4\")(x)\n",
    "x = LSTM(100, activation=\"relu\", name=\"L5\")(x)\n",
    "x = Dropout(0.5, name=\"Dr6\")(x)\n",
    "outputs = Dense(29, activation=\"softmax\", name=\"D7\")(x)\n",
    "model = Model(inputs, outputs, name=\"CNN-RNN-LSTM\")\n",
    "\n",
    "# Specify the loss, optimizer, and metrics with `compile()`.\n",
    "model.compile(\n",
    "    loss = keras.losses.CategoricalCrossentropy(),\n",
    "    optimizer = keras.optimizers.Adam(learning_rate=5e-6),\n",
    "    metrics = [keras.metrics.CategoricalAccuracy()]\n",
    ")\n",
    "\n",
    "model.summary()\n",
    "\n",
    "# Train the model with the dataset for 50 epochs.\n",
    "history = model.fit(X_train, y_train, batch_size=32, shuffle=True, epochs=50, validation_data=(X_val, y_val));"
   ]
  },
  {
   "cell_type": "code",
   "execution_count": null,
   "metadata": {
    "id": "FVuPtmEERcDF"
   },
   "outputs": [],
   "source": [
    "plt.plot(history.history['loss'])\n",
    "plt.plot(history.history['val_loss'])\n",
    "plt.title('Model loss')\n",
    "plt.ylabel('loss')\n",
    "plt.xlabel('Epoch')\n",
    "plt.legend(['train', 'validation'], loc='upper right')\n",
    "plt.show()"
   ]
  },
  {
   "cell_type": "code",
   "execution_count": null,
   "metadata": {
    "id": "x2GyAA6VRcen"
   },
   "outputs": [],
   "source": [
    "plt.plot(history.history['categorical_accuracy'])\n",
    "plt.plot(history.history['val_categorical_accuracy'])\n",
    "plt.title('Model Accuracy')\n",
    "plt.ylabel('Accuracy')\n",
    "plt.xlabel('Epoch')\n",
    "plt.legend(['train', 'validation'], loc='lower right')\n",
    "plt.show()"
   ]
  },
  {
   "cell_type": "code",
   "execution_count": null,
   "metadata": {
    "id": "kLVr-RuIRnTq"
   },
   "outputs": [],
   "source": [
    "model.evaluate(X_test, y_test, batch_size=10)"
   ]
  },
  {
   "cell_type": "markdown",
   "metadata": {
    "id": "jEaccNfPakBi"
   },
   "source": [
    "## Build a general CNN-RNN (LSTM)"
   ]
  },
  {
   "cell_type": "code",
   "execution_count": null,
   "metadata": {
    "id": "taWbk8Riamtz"
   },
   "outputs": [],
   "source": [
    "# Prepare our layer\n",
    "inputs = Input(shape=(None, 1,), dtype=\"float32\", name=\"I1\")\n",
    "x = ZeroPadding1D(padding=1, name=\"P2\")(inputs)\n",
    "x = Conv1D(8, 2, activation=\"relu\", name=\"C3\")(x)\n",
    "x = MaxPooling1D(2, name=\"MP4\")(x)\n",
    "x = LSTM(100, activation=\"relu\", name=\"L5\")(x)\n",
    "x = Dropout(0.5, name=\"Dr6\")(x)\n",
    "outputs = Dense(9, activation=\"softmax\", name=\"D7\")(x)\n",
    "model = Model(inputs, outputs, name=\"General-CNN-RNN-LSTM\")\n",
    "\n",
    "# Specify the loss, optimizer, and metrics with `compile()`.\n",
    "model.compile(\n",
    "    loss = keras.losses.CategoricalCrossentropy(),\n",
    "    optimizer = keras.optimizers.Adam(learning_rate=2e-6),\n",
    "    metrics = [keras.metrics.CategoricalAccuracy()]\n",
    ")\n",
    "\n",
    "model.summary()\n",
    "\n",
    "# Train the model with the dataset for 50 epochs.\n",
    "history = model.fit(X_train, y_train, batch_size=32, shuffle=True, epochs=50, validation_data=(X_val, y_val));"
   ]
  },
  {
   "cell_type": "code",
   "execution_count": null,
   "metadata": {
    "id": "LJ1LZzdiao7I"
   },
   "outputs": [],
   "source": [
    "plt.plot(history.history['loss'])\n",
    "plt.plot(history.history['val_loss'])\n",
    "plt.title('Model loss')\n",
    "plt.ylabel('loss')\n",
    "plt.xlabel('Epoch')\n",
    "plt.legend(['train', 'validation'], loc='upper right')\n",
    "plt.show()"
   ]
  },
  {
   "cell_type": "code",
   "execution_count": null,
   "metadata": {
    "id": "JYviHQPTao-_"
   },
   "outputs": [],
   "source": [
    "plt.plot(history.history['categorical_accuracy'])\n",
    "plt.plot(history.history['val_categorical_accuracy'])\n",
    "plt.title('Model Accuracy')\n",
    "plt.ylabel('Accuracy')\n",
    "plt.xlabel('Epoch')\n",
    "plt.legend(['train', 'validation'], loc='lower right')\n",
    "plt.show()"
   ]
  },
  {
   "cell_type": "code",
   "execution_count": null,
   "metadata": {
    "id": "s-yft6eYapE6"
   },
   "outputs": [],
   "source": [
    "model.evaluate(X_test, y_test, batch_size=10)"
   ]
  },
  {
   "cell_type": "markdown",
   "metadata": {
    "id": "6bKtxmWXgGqa"
   },
   "source": [
    "## Build a CNN-RNN (GRU)"
   ]
  },
  {
   "cell_type": "code",
   "execution_count": null,
   "metadata": {
    "id": "obkUjz6agJHs"
   },
   "outputs": [],
   "source": [
    "# Prepare our layer\n",
    "inputs = Input(shape=(60, 1,), dtype=\"float32\", name=\"I1\")\n",
    "x = ZeroPadding1D(padding=1, name=\"P2\")(inputs)\n",
    "x = Conv1D(8, 2, activation=\"relu\", name=\"C3\")(x)\n",
    "x = MaxPooling1D(2, name=\"MP4\")(x)\n",
    "x = GRU(100, activation=\"relu\", name=\"G5\")(x)\n",
    "x = Dropout(0.5, name=\"Dr6\")(x)\n",
    "outputs = Dense(9, activation=\"softmax\", name=\"D7\")(x)\n",
    "model = Model(inputs, outputs, name=\"CNN-RNN-GRU\")\n",
    "\n",
    "# Specify the loss, optimizer, and metrics with `compile()`.\n",
    "model.compile(\n",
    "    loss = keras.losses.CategoricalCrossentropy(),\n",
    "    optimizer = keras.optimizers.Adam(learning_rate=5e-6),\n",
    "    metrics = [keras.metrics.CategoricalAccuracy()]\n",
    ")\n",
    "\n",
    "model.summary()\n",
    "\n",
    "# Train the model with the dataset for 50 epochs.\n",
    "history = model.fit(X_train, y_train, batch_size=32, shuffle=True, epochs=50, validation_data=(X_val, y_val));"
   ]
  },
  {
   "cell_type": "code",
   "execution_count": null,
   "metadata": {
    "id": "6S_NgGxwgJKE"
   },
   "outputs": [],
   "source": [
    "plt.plot(history.history['loss'])\n",
    "plt.plot(history.history['val_loss'])\n",
    "plt.title('Model loss')\n",
    "plt.ylabel('loss')\n",
    "plt.xlabel('Epoch')\n",
    "plt.legend(['train', 'validation'], loc='upper right')\n",
    "plt.show()"
   ]
  },
  {
   "cell_type": "code",
   "execution_count": null,
   "metadata": {
    "id": "MwKlDlZhgJMr"
   },
   "outputs": [],
   "source": [
    "plt.plot(history.history['categorical_accuracy'])\n",
    "plt.plot(history.history['val_categorical_accuracy'])\n",
    "plt.title('Model Accuracy')\n",
    "plt.ylabel('Accuracy')\n",
    "plt.xlabel('Epoch')\n",
    "plt.legend(['train', 'validation'], loc='lower right')\n",
    "plt.show()"
   ]
  },
  {
   "cell_type": "code",
   "execution_count": null,
   "metadata": {
    "id": "QO33m8begJbh"
   },
   "outputs": [],
   "source": [
    "model.evaluate(X_test, y_test, batch_size=10)"
   ]
  },
  {
   "cell_type": "markdown",
   "metadata": {
    "id": "JcG-i4tYzuCK"
   },
   "source": [
    "## Build a general CNN-RNN (GRU)"
   ]
  },
  {
   "cell_type": "code",
   "execution_count": null,
   "metadata": {
    "id": "-dZmexhvzxjC"
   },
   "outputs": [],
   "source": [
    "# Prepare our layer\n",
    "inputs = Input(shape=(None, 1,), dtype=\"float32\", name=\"I1\")\n",
    "x = ZeroPadding1D(padding=1, name=\"P2\")(inputs)\n",
    "x = Conv1D(8, 2, activation=\"relu\", name=\"C3\")(x)\n",
    "x = MaxPooling1D(2, name=\"MP4\")(x)\n",
    "x = GRU(100, activation=\"relu\", name=\"G5\")(x)\n",
    "x = Dropout(0.5, name=\"Dr6\")(x)\n",
    "outputs = Dense(9, activation=\"softmax\", name=\"D7\")(x)\n",
    "model = Model(inputs, outputs, name=\"General-CNN-RNN-GRU\")\n",
    "\n",
    "# Specify the loss, optimizer, and metrics with `compile()`.\n",
    "model.compile(\n",
    "    loss = keras.losses.CategoricalCrossentropy(),\n",
    "    optimizer = keras.optimizers.Adam(learning_rate=5e-6),\n",
    "    metrics = [keras.metrics.CategoricalAccuracy()]\n",
    ")\n",
    "\n",
    "model.summary()\n",
    "\n",
    "# Train the model with the dataset for 50 epochs.\n",
    "history = model.fit(X_train, y_train, batch_size=32, shuffle=True, epochs=50, validation_data=(X_val, y_val));"
   ]
  },
  {
   "cell_type": "code",
   "execution_count": null,
   "metadata": {
    "id": "Oi3n0vrzz7Dp"
   },
   "outputs": [],
   "source": [
    "plt.plot(history.history['loss'])\n",
    "plt.plot(history.history['val_loss'])\n",
    "plt.title('Model loss')\n",
    "plt.ylabel('loss')\n",
    "plt.xlabel('Epoch')\n",
    "plt.legend(['train', 'validation'], loc='upper right')\n",
    "plt.show()"
   ]
  },
  {
   "cell_type": "code",
   "execution_count": null,
   "metadata": {
    "id": "WMGYCgwJz8Sy"
   },
   "outputs": [],
   "source": [
    "plt.plot(history.history['categorical_accuracy'])\n",
    "plt.plot(history.history['val_categorical_accuracy'])\n",
    "plt.title('Model Accuracy')\n",
    "plt.ylabel('Accuracy')\n",
    "plt.xlabel('Epoch')\n",
    "plt.legend(['train', 'validation'], loc='lower right')\n",
    "plt.show()"
   ]
  },
  {
   "cell_type": "code",
   "execution_count": null,
   "metadata": {
    "id": "3w8k4SuDz9id"
   },
   "outputs": [],
   "source": [
    "model.evaluate(X_test, y_test, batch_size=10)"
   ]
  }
 ],
 "metadata": {
  "accelerator": "GPU",
  "colab": {
   "collapsed_sections": [],
   "name": "GeneralEpidemicsR0-0-30.ipynb",
   "provenance": []
  },
  "kernelspec": {
   "display_name": "Python 3",
   "language": "python",
   "name": "python3"
  },
  "language_info": {
   "codemirror_mode": {
    "name": "ipython",
    "version": 3
   },
   "file_extension": ".py",
   "mimetype": "text/x-python",
   "name": "python",
   "nbconvert_exporter": "python",
   "pygments_lexer": "ipython3",
   "version": "3.6.9"
  }
 },
 "nbformat": 4,
 "nbformat_minor": 1
}
